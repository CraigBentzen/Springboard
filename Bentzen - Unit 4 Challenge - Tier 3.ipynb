{
 "cells": [
  {
   "cell_type": "markdown",
   "metadata": {
    "colab_type": "text",
    "id": "Tia3MP1SJpgj"
   },
   "source": [
    "# Springboard Data Science Career Track Unit 4 Challenge - Tier 3 Complete\n",
    "\n",
    "## Objectives\n",
    "Hey! Great job getting through those challenging DataCamp courses. You're learning a lot in a short span of time. \n",
    "\n",
    "In this notebook, you're going to apply the skills you've been learning, bridging the gap between the controlled environment of DataCamp and the *slightly* messier work that data scientists do with actual datasets!\n",
    "\n",
    "Here’s the mystery we’re going to solve: ***which boroughs of London have seen the greatest increase in housing prices, on average, over the last two decades?***\n",
    "\n",
    "\n",
    "A borough is just a fancy word for district. You may be familiar with the five boroughs of New York… well, there are 32 boroughs within Greater London [(here's some info for the curious)](https://en.wikipedia.org/wiki/London_boroughs). Some of them are more desirable areas to live in, and the data will reflect that with a greater rise in housing prices.\n",
    "\n",
    "***This is the Tier 3 notebook, which means it's not filled in at all: we'll just give you the skeleton of a project, the brief and the data. It's up to you to play around with it and see what you can find out! Good luck! If you struggle, feel free to look at easier tiers for help; but try to dip in and out of them, as the more independent work you do, the better it is for your learning!***\n",
    "\n",
    "This challenge will make use of only what you learned in the following DataCamp courses: \n",
    "- Prework courses (Introduction to Python for Data Science, Intermediate Python for Data Science)\n",
    "- Data Types for Data Science\n",
    "- Python Data Science Toolbox (Part One) \n",
    "- pandas Foundations\n",
    "- Manipulating DataFrames with pandas\n",
    "- Merging DataFrames with pandas\n",
    "\n",
    "Of the tools, techniques and concepts in the above DataCamp courses, this challenge should require the application of the following: \n",
    "- **pandas**\n",
    "    - **data ingestion and inspection** (pandas Foundations, Module One) \n",
    "    - **exploratory data analysis** (pandas Foundations, Module Two)\n",
    "    - **tidying and cleaning** (Manipulating DataFrames with pandas, Module Three) \n",
    "    - **transforming DataFrames** (Manipulating DataFrames with pandas, Module One)\n",
    "    - **subsetting DataFrames with lists** (Manipulating DataFrames with pandas, Module One) \n",
    "    - **filtering DataFrames** (Manipulating DataFrames with pandas, Module One) \n",
    "    - **grouping data** (Manipulating DataFrames with pandas, Module Four) \n",
    "    - **melting data** (Manipulating DataFrames with pandas, Module Three) \n",
    "    - **advanced indexing** (Manipulating DataFrames with pandas, Module Four) \n",
    "- **matplotlib** (Intermediate Python for Data Science, Module One)\n",
    "- **fundamental data types** (Data Types for Data Science, Module One) \n",
    "- **dictionaries** (Intermediate Python for Data Science, Module Two)\n",
    "- **handling dates and times** (Data Types for Data Science, Module Four)\n",
    "- **function definition** (Python Data Science Toolbox - Part One, Module One)\n",
    "- **default arguments, variable length, and scope** (Python Data Science Toolbox - Part One, Module Two) \n",
    "- **lambda functions and error handling** (Python Data Science Toolbox - Part One, Module Four) "
   ]
  },
  {
   "cell_type": "markdown",
   "metadata": {
    "colab_type": "text",
    "id": "Ipgd2nV8Jpgl"
   },
   "source": [
    "## The Data Science Pipeline\n",
    "\n",
    "This is Tier Three, so we'll get you started. But after that, it's all in your hands! When you feel done with your investigations, look back over what you've accomplished, and prepare a quick presentation of your findings for the next mentor meeting. \n",
    "\n",
    "Data Science is magical. In this case study, you'll get to apply some complex machine learning algorithms. But as  [David Spiegelhalter](https://www.youtube.com/watch?v=oUs1uvsz0Ok) reminds us, there is no substitute for simply **taking a really, really good look at the data.** Sometimes, this is all we need to answer our question.\n",
    "\n",
    "Data Science projects generally adhere to the four stages of Data Science Pipeline:\n",
    "1. Sourcing and loading \n",
    "2. Cleaning, transforming, and visualizing \n",
    "3. Modeling \n",
    "4. Evaluating and concluding \n"
   ]
  },
  {
   "cell_type": "markdown",
   "metadata": {
    "colab_type": "text",
    "id": "zswDqbefJpgm"
   },
   "source": [
    "### 1. Sourcing and Loading \n",
    "\n",
    "Any Data Science project kicks off by importing  ***pandas***. The documentation of this wonderful library can be found [here](https://pandas.pydata.org/). As you've seen, pandas is conveniently connected to the [Numpy](http://www.numpy.org/) and [Matplotlib](https://matplotlib.org/) libraries. \n",
    "\n",
    "***Hint:*** This part of the data science pipeline will test those skills you acquired in the pandas Foundations course, Module One. "
   ]
  },
  {
   "cell_type": "markdown",
   "metadata": {
    "colab_type": "text",
    "id": "aEau5nEvJpgm"
   },
   "source": [
    "#### 1.1. Importing Libraries"
   ]
  },
  {
   "cell_type": "code",
   "execution_count": 1,
   "metadata": {
    "colab": {},
    "colab_type": "code",
    "id": "7Bt_Q_oPJpgn"
   },
   "outputs": [],
   "source": [
    "# Let's import the pandas, numpy libraries as pd, and np respectively. \n",
    "import pandas as pd\n",
    "import numpy as np\n",
    "\n",
    "# Load the pyplot collection of functions from matplotlib, as plt \n",
    "import matplotlib.pyplot as plt"
   ]
  },
  {
   "cell_type": "markdown",
   "metadata": {
    "colab_type": "text",
    "id": "koUrawxsJpgq"
   },
   "source": [
    "#### 1.2.  Loading the data\n",
    "Your data comes from the [London Datastore](https://data.london.gov.uk/): a free, open-source data-sharing portal for London-oriented datasets. "
   ]
  },
  {
   "cell_type": "code",
   "execution_count": 2,
   "metadata": {
    "colab": {},
    "colab_type": "code",
    "id": "AiLiD4v3Jpgr"
   },
   "outputs": [],
   "source": [
    "# First, make a variable called url_LondonHousePrices, and assign it the following link, enclosed in quotation-marks as a string:\n",
    "# https://data.london.gov.uk/download/uk-house-price-index/70ac0766-8902-4eb5-aab5-01951aaed773/UK%20House%20price%20index.xls\n",
    "\n",
    "url_LondonHousePrices = \"https://data.london.gov.uk/download/uk-house-price-index/70ac0766-8902-4eb5-aab5-01951aaed773/UK%20House%20price%20index.xls\"\n",
    "\n",
    "# The dataset we're interested in contains the Average prices of the houses, and is actually on a particular sheet of the Excel file. \n",
    "# As a result, we need to specify the sheet name in the read_excel() method.\n",
    "# Put this data into a variable called properties.  \n",
    "properties = pd.read_excel(url_LondonHousePrices, sheet_name='Average price', index_col= None, header=[0,1])"
   ]
  },
  {
   "cell_type": "markdown",
   "metadata": {
    "colab_type": "text",
    "id": "POukEJXgJpgu"
   },
   "source": [
    "### 2. Cleaning, transforming, and visualizing\n",
    "This second stage is arguably the most important part of any Data Science project. The first thing to do is take a proper look at the data. Cleaning forms the majority of this stage, and can be done both before or after Transformation.\n",
    "\n",
    "The end goal of data cleaning is to have tidy data. When data is tidy: \n",
    "\n",
    "1. Each variable has a column.\n",
    "2. Each observation forms a row.\n",
    "\n",
    "Keep the end goal in mind as you move through this process, every step will take you closer. \n",
    "\n",
    "\n",
    "\n",
    "***Hint:*** This part of the data science pipeline should test those skills you acquired in: \n",
    "- Intermediate Python for data science, all modules.\n",
    "- pandas Foundations, all modules. \n",
    "- Manipulating DataFrames with pandas, all modules.\n",
    "- Data Types for Data Science, Module Four.\n",
    "- Python Data Science Toolbox - Part One, all modules"
   ]
  },
  {
   "cell_type": "markdown",
   "metadata": {
    "colab_type": "text",
    "id": "Te0Q548tnzZa"
   },
   "source": [
    "**2.1. Exploring your data** \n",
    "\n",
    "Think about your pandas functions for checking out a dataframe. "
   ]
  },
  {
   "cell_type": "code",
   "execution_count": 3,
   "metadata": {
    "colab": {},
    "colab_type": "code",
    "id": "Rxirxw_qoAJa"
   },
   "outputs": [
    {
     "data": {
      "text/html": [
       "<div>\n",
       "<style scoped>\n",
       "    .dataframe tbody tr th:only-of-type {\n",
       "        vertical-align: middle;\n",
       "    }\n",
       "\n",
       "    .dataframe tbody tr th {\n",
       "        vertical-align: top;\n",
       "    }\n",
       "\n",
       "    .dataframe thead tr th {\n",
       "        text-align: left;\n",
       "    }\n",
       "</style>\n",
       "<table border=\"1\" class=\"dataframe\">\n",
       "  <thead>\n",
       "    <tr>\n",
       "      <th></th>\n",
       "      <th>City of London</th>\n",
       "      <th>Barking &amp; Dagenham</th>\n",
       "      <th>Barnet</th>\n",
       "      <th>Bexley</th>\n",
       "      <th>Brent</th>\n",
       "      <th>Bromley</th>\n",
       "      <th>Camden</th>\n",
       "      <th>Croydon</th>\n",
       "      <th>Ealing</th>\n",
       "      <th>Enfield</th>\n",
       "      <th>...</th>\n",
       "      <th>NORTH WEST</th>\n",
       "      <th>YORKS &amp; THE HUMBER</th>\n",
       "      <th>EAST MIDLANDS</th>\n",
       "      <th>WEST MIDLANDS</th>\n",
       "      <th>EAST OF ENGLAND</th>\n",
       "      <th>LONDON</th>\n",
       "      <th>SOUTH EAST</th>\n",
       "      <th colspan=\"2\" halign=\"left\">SOUTH WEST</th>\n",
       "      <th>England</th>\n",
       "    </tr>\n",
       "    <tr>\n",
       "      <th></th>\n",
       "      <th>E09000001</th>\n",
       "      <th>E09000002</th>\n",
       "      <th>E09000003</th>\n",
       "      <th>E09000004</th>\n",
       "      <th>E09000005</th>\n",
       "      <th>E09000006</th>\n",
       "      <th>E09000007</th>\n",
       "      <th>E09000008</th>\n",
       "      <th>E09000009</th>\n",
       "      <th>E09000010</th>\n",
       "      <th>...</th>\n",
       "      <th>E12000002</th>\n",
       "      <th>E12000003</th>\n",
       "      <th>E12000004</th>\n",
       "      <th>E12000005</th>\n",
       "      <th>E12000006</th>\n",
       "      <th>E12000007</th>\n",
       "      <th>E12000008</th>\n",
       "      <th>E12000009</th>\n",
       "      <th>E12000009.1</th>\n",
       "      <th>E92000001</th>\n",
       "    </tr>\n",
       "  </thead>\n",
       "  <tbody>\n",
       "    <tr>\n",
       "      <th>1995-01-01</th>\n",
       "      <td>91448.98487</td>\n",
       "      <td>50460.22660</td>\n",
       "      <td>93284.51832</td>\n",
       "      <td>64958.09036</td>\n",
       "      <td>71306.56698</td>\n",
       "      <td>81671.47692</td>\n",
       "      <td>120932.8881</td>\n",
       "      <td>69158.16225</td>\n",
       "      <td>79885.89069</td>\n",
       "      <td>72514.69096</td>\n",
       "      <td>...</td>\n",
       "      <td>43958.48001</td>\n",
       "      <td>44803.42878</td>\n",
       "      <td>45544.52227</td>\n",
       "      <td>48527.52339</td>\n",
       "      <td>56701.59610</td>\n",
       "      <td>74435.76052</td>\n",
       "      <td>64018.87894</td>\n",
       "      <td>54705.15790</td>\n",
       "      <td>NaN</td>\n",
       "      <td>53202.77128</td>\n",
       "    </tr>\n",
       "    <tr>\n",
       "      <th>1995-02-01</th>\n",
       "      <td>82202.77314</td>\n",
       "      <td>51085.77983</td>\n",
       "      <td>93190.16963</td>\n",
       "      <td>64787.92069</td>\n",
       "      <td>72022.26197</td>\n",
       "      <td>81657.55944</td>\n",
       "      <td>119508.8622</td>\n",
       "      <td>68951.09542</td>\n",
       "      <td>80897.06551</td>\n",
       "      <td>73155.19746</td>\n",
       "      <td>...</td>\n",
       "      <td>43925.42289</td>\n",
       "      <td>44528.80721</td>\n",
       "      <td>46051.57066</td>\n",
       "      <td>49341.29029</td>\n",
       "      <td>56593.59475</td>\n",
       "      <td>72777.93709</td>\n",
       "      <td>63715.02399</td>\n",
       "      <td>54356.14843</td>\n",
       "      <td>NaN</td>\n",
       "      <td>53096.15490</td>\n",
       "    </tr>\n",
       "    <tr>\n",
       "      <th>1995-03-01</th>\n",
       "      <td>79120.70256</td>\n",
       "      <td>51268.96956</td>\n",
       "      <td>92247.52435</td>\n",
       "      <td>64367.49344</td>\n",
       "      <td>72015.76274</td>\n",
       "      <td>81449.31143</td>\n",
       "      <td>120282.2131</td>\n",
       "      <td>68712.44341</td>\n",
       "      <td>81379.86288</td>\n",
       "      <td>72190.44144</td>\n",
       "      <td>...</td>\n",
       "      <td>44434.86810</td>\n",
       "      <td>45200.46775</td>\n",
       "      <td>45383.82395</td>\n",
       "      <td>49442.17973</td>\n",
       "      <td>56171.18278</td>\n",
       "      <td>73896.84204</td>\n",
       "      <td>64113.60858</td>\n",
       "      <td>53583.07667</td>\n",
       "      <td>NaN</td>\n",
       "      <td>53201.28430</td>\n",
       "    </tr>\n",
       "    <tr>\n",
       "      <th>1995-04-01</th>\n",
       "      <td>77101.20804</td>\n",
       "      <td>53133.50526</td>\n",
       "      <td>90762.87492</td>\n",
       "      <td>64277.66881</td>\n",
       "      <td>72965.63094</td>\n",
       "      <td>81124.41227</td>\n",
       "      <td>120097.8990</td>\n",
       "      <td>68610.04641</td>\n",
       "      <td>82188.90498</td>\n",
       "      <td>71442.92235</td>\n",
       "      <td>...</td>\n",
       "      <td>44267.77960</td>\n",
       "      <td>45614.34341</td>\n",
       "      <td>46124.23045</td>\n",
       "      <td>49455.93299</td>\n",
       "      <td>56567.89582</td>\n",
       "      <td>74455.28754</td>\n",
       "      <td>64623.22395</td>\n",
       "      <td>54786.01938</td>\n",
       "      <td>NaN</td>\n",
       "      <td>53590.85480</td>\n",
       "    </tr>\n",
       "    <tr>\n",
       "      <th>1995-05-01</th>\n",
       "      <td>84409.14932</td>\n",
       "      <td>53042.24852</td>\n",
       "      <td>90258.00033</td>\n",
       "      <td>63997.13588</td>\n",
       "      <td>73704.04743</td>\n",
       "      <td>81542.61561</td>\n",
       "      <td>119929.2782</td>\n",
       "      <td>68844.91690</td>\n",
       "      <td>82077.05525</td>\n",
       "      <td>70630.77955</td>\n",
       "      <td>...</td>\n",
       "      <td>44223.61973</td>\n",
       "      <td>44830.98563</td>\n",
       "      <td>45878.00396</td>\n",
       "      <td>50369.66188</td>\n",
       "      <td>56479.80183</td>\n",
       "      <td>75432.02786</td>\n",
       "      <td>64530.36358</td>\n",
       "      <td>54698.83831</td>\n",
       "      <td>NaN</td>\n",
       "      <td>53678.24041</td>\n",
       "    </tr>\n",
       "  </tbody>\n",
       "</table>\n",
       "<p>5 rows × 48 columns</p>\n",
       "</div>"
      ],
      "text/plain": [
       "           City of London Barking & Dagenham       Barnet       Bexley  \\\n",
       "                E09000001          E09000002    E09000003    E09000004   \n",
       "1995-01-01    91448.98487        50460.22660  93284.51832  64958.09036   \n",
       "1995-02-01    82202.77314        51085.77983  93190.16963  64787.92069   \n",
       "1995-03-01    79120.70256        51268.96956  92247.52435  64367.49344   \n",
       "1995-04-01    77101.20804        53133.50526  90762.87492  64277.66881   \n",
       "1995-05-01    84409.14932        53042.24852  90258.00033  63997.13588   \n",
       "\n",
       "                  Brent      Bromley       Camden      Croydon       Ealing  \\\n",
       "              E09000005    E09000006    E09000007    E09000008    E09000009   \n",
       "1995-01-01  71306.56698  81671.47692  120932.8881  69158.16225  79885.89069   \n",
       "1995-02-01  72022.26197  81657.55944  119508.8622  68951.09542  80897.06551   \n",
       "1995-03-01  72015.76274  81449.31143  120282.2131  68712.44341  81379.86288   \n",
       "1995-04-01  72965.63094  81124.41227  120097.8990  68610.04641  82188.90498   \n",
       "1995-05-01  73704.04743  81542.61561  119929.2782  68844.91690  82077.05525   \n",
       "\n",
       "                Enfield     ...        NORTH WEST YORKS & THE HUMBER  \\\n",
       "              E09000010     ...         E12000002          E12000003   \n",
       "1995-01-01  72514.69096     ...       43958.48001        44803.42878   \n",
       "1995-02-01  73155.19746     ...       43925.42289        44528.80721   \n",
       "1995-03-01  72190.44144     ...       44434.86810        45200.46775   \n",
       "1995-04-01  71442.92235     ...       44267.77960        45614.34341   \n",
       "1995-05-01  70630.77955     ...       44223.61973        44830.98563   \n",
       "\n",
       "           EAST MIDLANDS WEST MIDLANDS EAST OF ENGLAND       LONDON  \\\n",
       "               E12000004     E12000005       E12000006    E12000007   \n",
       "1995-01-01   45544.52227   48527.52339     56701.59610  74435.76052   \n",
       "1995-02-01   46051.57066   49341.29029     56593.59475  72777.93709   \n",
       "1995-03-01   45383.82395   49442.17973     56171.18278  73896.84204   \n",
       "1995-04-01   46124.23045   49455.93299     56567.89582  74455.28754   \n",
       "1995-05-01   45878.00396   50369.66188     56479.80183  75432.02786   \n",
       "\n",
       "             SOUTH EAST   SOUTH WEST                  England  \n",
       "              E12000008    E12000009 E12000009.1    E92000001  \n",
       "1995-01-01  64018.87894  54705.15790         NaN  53202.77128  \n",
       "1995-02-01  63715.02399  54356.14843         NaN  53096.15490  \n",
       "1995-03-01  64113.60858  53583.07667         NaN  53201.28430  \n",
       "1995-04-01  64623.22395  54786.01938         NaN  53590.85480  \n",
       "1995-05-01  64530.36358  54698.83831         NaN  53678.24041  \n",
       "\n",
       "[5 rows x 48 columns]"
      ]
     },
     "execution_count": 3,
     "metadata": {},
     "output_type": "execute_result"
    }
   ],
   "source": [
    "properties.head()\n"
   ]
  },
  {
   "cell_type": "markdown",
   "metadata": {
    "colab_type": "text",
    "id": "tE9Sqt9-oAta"
   },
   "source": [
    "**2.2. Cleaning the data**\n",
    "\n",
    "You might find you need to transpose your dataframe, check out what its row indexes are, and reset the index. You  also might find you need to assign the values of the first row to your column headings  . (Hint: recall the .columns feature of DataFrames, as well as the iloc[] method).\n",
    "\n",
    "Don't be afraid to use StackOverflow for help  with this."
   ]
  },
  {
   "cell_type": "code",
   "execution_count": 4,
   "metadata": {
    "colab": {},
    "colab_type": "code",
    "id": "cdAu1A3YoH_r"
   },
   "outputs": [],
   "source": [
    "properties = properties.transpose().reset_index()\n"
   ]
  },
  {
   "cell_type": "code",
   "execution_count": 5,
   "metadata": {},
   "outputs": [],
   "source": [
    "properties = properties.loc[0:32].head(35)"
   ]
  },
  {
   "cell_type": "markdown",
   "metadata": {
    "colab_type": "text",
    "id": "o1uLbJAsoIjK"
   },
   "source": [
    "**2.3. Cleaning the data (part 2)**\n",
    "\n",
    "You might we have to **rename** a couple columns. How do you do this? The clue's pretty bold..."
   ]
  },
  {
   "cell_type": "code",
   "execution_count": 6,
   "metadata": {
    "colab": {},
    "colab_type": "code",
    "id": "GKkmn1AnoVZS"
   },
   "outputs": [],
   "source": [
    "properties = properties.rename(columns={'level_0':'Boroughs', 'level_1': 'ID'})\n"
   ]
  },
  {
   "cell_type": "code",
   "execution_count": 7,
   "metadata": {},
   "outputs": [
    {
     "data": {
      "text/html": [
       "<div>\n",
       "<style scoped>\n",
       "    .dataframe tbody tr th:only-of-type {\n",
       "        vertical-align: middle;\n",
       "    }\n",
       "\n",
       "    .dataframe tbody tr th {\n",
       "        vertical-align: top;\n",
       "    }\n",
       "\n",
       "    .dataframe thead th {\n",
       "        text-align: right;\n",
       "    }\n",
       "</style>\n",
       "<table border=\"1\" class=\"dataframe\">\n",
       "  <thead>\n",
       "    <tr style=\"text-align: right;\">\n",
       "      <th></th>\n",
       "      <th>Boroughs</th>\n",
       "      <th>ID</th>\n",
       "      <th>1995-01-01 00:00:00</th>\n",
       "      <th>1995-02-01 00:00:00</th>\n",
       "      <th>1995-03-01 00:00:00</th>\n",
       "      <th>1995-04-01 00:00:00</th>\n",
       "      <th>1995-05-01 00:00:00</th>\n",
       "      <th>1995-06-01 00:00:00</th>\n",
       "      <th>1995-07-01 00:00:00</th>\n",
       "      <th>1995-08-01 00:00:00</th>\n",
       "      <th>...</th>\n",
       "      <th>2019-05-01 00:00:00</th>\n",
       "      <th>2019-06-01 00:00:00</th>\n",
       "      <th>2019-07-01 00:00:00</th>\n",
       "      <th>2019-08-01 00:00:00</th>\n",
       "      <th>2019-09-01 00:00:00</th>\n",
       "      <th>2019-10-01 00:00:00</th>\n",
       "      <th>2019-11-01 00:00:00</th>\n",
       "      <th>2019-12-01 00:00:00</th>\n",
       "      <th>2020-01-01 00:00:00</th>\n",
       "      <th>2020-02-01 00:00:00</th>\n",
       "    </tr>\n",
       "  </thead>\n",
       "  <tbody>\n",
       "    <tr>\n",
       "      <th>0</th>\n",
       "      <td>City of London</td>\n",
       "      <td>E09000001</td>\n",
       "      <td>91448.98487</td>\n",
       "      <td>82202.77314</td>\n",
       "      <td>79120.70256</td>\n",
       "      <td>77101.20804</td>\n",
       "      <td>84409.14932</td>\n",
       "      <td>94900.51244</td>\n",
       "      <td>110128.04230</td>\n",
       "      <td>112329.43760</td>\n",
       "      <td>...</td>\n",
       "      <td>718929.8777</td>\n",
       "      <td>761786.2425</td>\n",
       "      <td>738370.3891</td>\n",
       "      <td>795632.4582</td>\n",
       "      <td>792195.0059</td>\n",
       "      <td>827374.8332</td>\n",
       "      <td>778869.8314</td>\n",
       "      <td>739644.7006</td>\n",
       "      <td>748456.8177</td>\n",
       "      <td>730282.1054</td>\n",
       "    </tr>\n",
       "    <tr>\n",
       "      <th>1</th>\n",
       "      <td>Barking &amp; Dagenham</td>\n",
       "      <td>E09000002</td>\n",
       "      <td>50460.22660</td>\n",
       "      <td>51085.77983</td>\n",
       "      <td>51268.96956</td>\n",
       "      <td>53133.50526</td>\n",
       "      <td>53042.24852</td>\n",
       "      <td>53700.34831</td>\n",
       "      <td>52113.12157</td>\n",
       "      <td>52232.19868</td>\n",
       "      <td>...</td>\n",
       "      <td>295829.1839</td>\n",
       "      <td>295179.3754</td>\n",
       "      <td>299059.7272</td>\n",
       "      <td>300401.9147</td>\n",
       "      <td>305488.3382</td>\n",
       "      <td>304562.8825</td>\n",
       "      <td>306376.2828</td>\n",
       "      <td>301435.4336</td>\n",
       "      <td>303630.9556</td>\n",
       "      <td>298960.1523</td>\n",
       "    </tr>\n",
       "    <tr>\n",
       "      <th>2</th>\n",
       "      <td>Barnet</td>\n",
       "      <td>E09000003</td>\n",
       "      <td>93284.51832</td>\n",
       "      <td>93190.16963</td>\n",
       "      <td>92247.52435</td>\n",
       "      <td>90762.87492</td>\n",
       "      <td>90258.00033</td>\n",
       "      <td>90107.23471</td>\n",
       "      <td>91441.24768</td>\n",
       "      <td>92361.31512</td>\n",
       "      <td>...</td>\n",
       "      <td>504765.0338</td>\n",
       "      <td>512818.0943</td>\n",
       "      <td>515235.4529</td>\n",
       "      <td>528958.4653</td>\n",
       "      <td>527691.3452</td>\n",
       "      <td>525984.6009</td>\n",
       "      <td>522683.1347</td>\n",
       "      <td>519037.0907</td>\n",
       "      <td>518270.5463</td>\n",
       "      <td>526023.9441</td>\n",
       "    </tr>\n",
       "    <tr>\n",
       "      <th>3</th>\n",
       "      <td>Bexley</td>\n",
       "      <td>E09000004</td>\n",
       "      <td>64958.09036</td>\n",
       "      <td>64787.92069</td>\n",
       "      <td>64367.49344</td>\n",
       "      <td>64277.66881</td>\n",
       "      <td>63997.13588</td>\n",
       "      <td>64252.32335</td>\n",
       "      <td>63722.70055</td>\n",
       "      <td>64432.60005</td>\n",
       "      <td>...</td>\n",
       "      <td>337543.4558</td>\n",
       "      <td>339683.7051</td>\n",
       "      <td>338257.2311</td>\n",
       "      <td>337744.9420</td>\n",
       "      <td>334075.2309</td>\n",
       "      <td>333852.7889</td>\n",
       "      <td>334044.1986</td>\n",
       "      <td>336579.2657</td>\n",
       "      <td>335491.6031</td>\n",
       "      <td>341588.1903</td>\n",
       "    </tr>\n",
       "    <tr>\n",
       "      <th>4</th>\n",
       "      <td>Brent</td>\n",
       "      <td>E09000005</td>\n",
       "      <td>71306.56698</td>\n",
       "      <td>72022.26197</td>\n",
       "      <td>72015.76274</td>\n",
       "      <td>72965.63094</td>\n",
       "      <td>73704.04743</td>\n",
       "      <td>74310.48167</td>\n",
       "      <td>74127.03788</td>\n",
       "      <td>73547.04110</td>\n",
       "      <td>...</td>\n",
       "      <td>482100.7016</td>\n",
       "      <td>474459.6581</td>\n",
       "      <td>472981.0049</td>\n",
       "      <td>487091.1062</td>\n",
       "      <td>500800.0173</td>\n",
       "      <td>494696.5285</td>\n",
       "      <td>432511.0480</td>\n",
       "      <td>429916.7548</td>\n",
       "      <td>425606.8485</td>\n",
       "      <td>479542.3404</td>\n",
       "    </tr>\n",
       "  </tbody>\n",
       "</table>\n",
       "<p>5 rows × 304 columns</p>\n",
       "</div>"
      ],
      "text/plain": [
       "             Boroughs         ID  1995-01-01 00:00:00  1995-02-01 00:00:00  \\\n",
       "0      City of London  E09000001          91448.98487          82202.77314   \n",
       "1  Barking & Dagenham  E09000002          50460.22660          51085.77983   \n",
       "2              Barnet  E09000003          93284.51832          93190.16963   \n",
       "3              Bexley  E09000004          64958.09036          64787.92069   \n",
       "4               Brent  E09000005          71306.56698          72022.26197   \n",
       "\n",
       "   1995-03-01 00:00:00  1995-04-01 00:00:00  1995-05-01 00:00:00  \\\n",
       "0          79120.70256          77101.20804          84409.14932   \n",
       "1          51268.96956          53133.50526          53042.24852   \n",
       "2          92247.52435          90762.87492          90258.00033   \n",
       "3          64367.49344          64277.66881          63997.13588   \n",
       "4          72015.76274          72965.63094          73704.04743   \n",
       "\n",
       "   1995-06-01 00:00:00  1995-07-01 00:00:00  1995-08-01 00:00:00  \\\n",
       "0          94900.51244         110128.04230         112329.43760   \n",
       "1          53700.34831          52113.12157          52232.19868   \n",
       "2          90107.23471          91441.24768          92361.31512   \n",
       "3          64252.32335          63722.70055          64432.60005   \n",
       "4          74310.48167          74127.03788          73547.04110   \n",
       "\n",
       "          ...           2019-05-01 00:00:00  2019-06-01 00:00:00  \\\n",
       "0         ...                   718929.8777          761786.2425   \n",
       "1         ...                   295829.1839          295179.3754   \n",
       "2         ...                   504765.0338          512818.0943   \n",
       "3         ...                   337543.4558          339683.7051   \n",
       "4         ...                   482100.7016          474459.6581   \n",
       "\n",
       "   2019-07-01 00:00:00  2019-08-01 00:00:00  2019-09-01 00:00:00  \\\n",
       "0          738370.3891          795632.4582          792195.0059   \n",
       "1          299059.7272          300401.9147          305488.3382   \n",
       "2          515235.4529          528958.4653          527691.3452   \n",
       "3          338257.2311          337744.9420          334075.2309   \n",
       "4          472981.0049          487091.1062          500800.0173   \n",
       "\n",
       "   2019-10-01 00:00:00  2019-11-01 00:00:00  2019-12-01 00:00:00  \\\n",
       "0          827374.8332          778869.8314          739644.7006   \n",
       "1          304562.8825          306376.2828          301435.4336   \n",
       "2          525984.6009          522683.1347          519037.0907   \n",
       "3          333852.7889          334044.1986          336579.2657   \n",
       "4          494696.5285          432511.0480          429916.7548   \n",
       "\n",
       "   2020-01-01 00:00:00  2020-02-01 00:00:00  \n",
       "0          748456.8177          730282.1054  \n",
       "1          303630.9556          298960.1523  \n",
       "2          518270.5463          526023.9441  \n",
       "3          335491.6031          341588.1903  \n",
       "4          425606.8485          479542.3404  \n",
       "\n",
       "[5 rows x 304 columns]"
      ]
     },
     "execution_count": 7,
     "metadata": {},
     "output_type": "execute_result"
    }
   ],
   "source": [
    "properties.head()"
   ]
  },
  {
   "cell_type": "markdown",
   "metadata": {
    "colab_type": "text",
    "id": "jy8BzXHmoWEw"
   },
   "source": [
    "**2.4.Transforming the data**\n",
    "\n",
    "Remember what Wes McKinney said about tidy data? \n",
    "\n",
    "You might need to **melt** your DataFrame here. "
   ]
  },
  {
   "cell_type": "code",
   "execution_count": 8,
   "metadata": {
    "colab": {},
    "colab_type": "code",
    "id": "S2wM0qLuo2Zt"
   },
   "outputs": [],
   "source": [
    "properties_reduced=pd.melt(properties,id_vars=['Boroughs','ID'], var_name='Month',value_name='Average Price')"
   ]
  },
  {
   "cell_type": "markdown",
   "metadata": {
    "colab_type": "text",
    "id": "7kIsgAo7o3mf"
   },
   "source": [
    "Remember to make sure your column data types are all correct. Average prices, for example, should be floating point numbers... "
   ]
  },
  {
   "cell_type": "code",
   "execution_count": 9,
   "metadata": {
    "colab": {},
    "colab_type": "code",
    "id": "ZcR4IHbcpOaq"
   },
   "outputs": [
    {
     "data": {
      "text/plain": [
       "Boroughs                 object\n",
       "ID                       object\n",
       "Month            datetime64[ns]\n",
       "Average Price           float64\n",
       "dtype: object"
      ]
     },
     "execution_count": 9,
     "metadata": {},
     "output_type": "execute_result"
    }
   ],
   "source": [
    "properties_reduced.dtypes"
   ]
  },
  {
   "cell_type": "markdown",
   "metadata": {
    "colab_type": "text",
    "id": "knLUXHLypOtw"
   },
   "source": [
    "**2.5. Cleaning the data (part 3)**\n",
    "\n",
    "Do we have an equal number of observations in the ID, Average Price, Month, and London Borough columns? Remember that there are only 32 London Boroughs. How many entries do you have in that column? \n",
    "\n",
    "Check out the contents of the London Borough column, and if you find null values, get rid of them however you see fit. "
   ]
  },
  {
   "cell_type": "markdown",
   "metadata": {
    "colab_type": "text",
    "id": "PGEx6mJsp6dG"
   },
   "source": [
    "**2.6. Visualizing the data**\n",
    "\n",
    "To visualize the data, why not subset on a particular London Borough? Maybe do a line plot of Month against Average Price?"
   ]
  },
  {
   "cell_type": "code",
   "execution_count": 10,
   "metadata": {
    "colab": {},
    "colab_type": "code",
    "id": "nAg5pT9cqHAR"
   },
   "outputs": [
    {
     "data": {
      "image/png": "[encoded data removed]",
      "text/plain": [
       "<Figure size 432x288 with 1 Axes>"
      ]
     },
     "metadata": {
      "needs_background": "light"
     },
     "output_type": "display_data"
    }
   ],
   "source": [
    "Chelsea=properties_reduced.loc[lambda row : row['Boroughs']=='Kensington & Chelsea']\n",
    "plt.plot(Chelsea['Month'], Chelsea['Average Price'])\n",
    "plt.show()"
   ]
  },
  {
   "cell_type": "markdown",
   "metadata": {
    "colab_type": "text",
    "id": "aWTPqSJeqHnC"
   },
   "source": [
    "To limit the number of data points you have, you might want to extract the year from every month value your *Month* column. \n",
    "\n",
    "To this end, you *could* apply a ***lambda function***. Your logic could work as follows:\n",
    "1. look through the `Month` column\n",
    "2. extract the year from each individual value in that column \n",
    "3. store that corresponding year as separate column. \n",
    "\n",
    "Whether you go ahead with this is up to you. Just so long as you answer our initial brief: which boroughs of London have seen the greatest house price increase, on average, over the past two decades? "
   ]
  },
  {
   "cell_type": "code",
   "execution_count": 11,
   "metadata": {
    "colab": {},
    "colab_type": "code",
    "id": "e0DF92cyqnu8"
   },
   "outputs": [],
   "source": [
    "properties_reduced['year']=pd.DatetimeIndex(properties_reduced['Month']).year\n"
   ]
  },
  {
   "cell_type": "code",
   "execution_count": 12,
   "metadata": {},
   "outputs": [
    {
     "data": {
      "text/plain": [
       "Boroughs                 object\n",
       "ID                       object\n",
       "Month            datetime64[ns]\n",
       "Average Price           float64\n",
       "year                      int64\n",
       "dtype: object"
      ]
     },
     "execution_count": 12,
     "metadata": {},
     "output_type": "execute_result"
    }
   ],
   "source": [
    "properties_reduced.dtypes"
   ]
  },
  {
   "cell_type": "markdown",
   "metadata": {
    "colab_type": "text",
    "id": "2knuTxAEqoJ4"
   },
   "source": [
    "**3. Modeling**\n",
    "\n",
    "Consider creating a function that will calculate a ratio of house prices, comparing the price of a house in 2018 to the price in 1998.\n",
    "\n",
    "Consider calling this function create_price_ratio.\n",
    "\n",
    "You'd want this function to:\n",
    "1. Take a filter of dfg, specifically where this filter constrains the London_Borough, as an argument. For example, one admissible argument should be: dfg[dfg['London_Borough']=='Camden'].\n",
    "2. Get the Average Price for that Borough, for the years 1998 and 2018.\n",
    "4. Calculate the ratio of the Average Price for 1998 divided by the Average Price for 2018.\n",
    "5. Return that ratio.\n",
    "\n",
    "Once you've written this function, you ultimately want to use it to iterate through all the unique London_Boroughs and work out the ratio capturing the difference of house prices between 1998 and 2018.\n",
    "\n",
    "Bear in mind: you don't have to write a function like this if you don't want to. If you can solve the brief otherwise, then great! \n",
    "\n",
    "***Hint***: This section should test the skills you acquired in:\n",
    "- Python Data Science Toolbox - Part One, all modules"
   ]
  },
  {
   "cell_type": "code",
   "execution_count": 13,
   "metadata": {},
   "outputs": [],
   "source": [
    "london_borough_list = np.unique(properties_reduced['Boroughs'].values)\n"
   ]
  },
  {
   "cell_type": "code",
   "execution_count": 14,
   "metadata": {
    "colab": {},
    "colab_type": "code",
    "id": "cKTyr437UgDa"
   },
   "outputs": [],
   "source": [
    "def get_ratio(x):\n",
    "    price_2018 = properties_reduced[(properties_reduced['Boroughs']==x) & (properties_reduced['year']==2018)]['Average Price'].mean(axis=0)\n",
    "    price_1998 = properties_reduced[(properties_reduced['Boroughs']==x) & (properties_reduced['year']==1998)]['Average Price'].mean(axis=0)\n",
    "    return(x, price_1998/price_2018)"
   ]
  },
  {
   "cell_type": "code",
   "execution_count": 15,
   "metadata": {},
   "outputs": [],
   "source": [
    " borough_ratios=[]"
   ]
  },
  {
   "cell_type": "code",
   "execution_count": 16,
   "metadata": {},
   "outputs": [],
   "source": [
    "for x in london_borough_list:\n",
    "    borough_ratios.append(get_ratio(x))\n"
   ]
  },
  {
   "cell_type": "code",
   "execution_count": 17,
   "metadata": {},
   "outputs": [],
   "source": [
    "ratio_df = pd.DataFrame(borough_ratios, columns =['Borough', 'Ratio'])"
   ]
  },
  {
   "cell_type": "code",
   "execution_count": 18,
   "metadata": {
    "scrolled": true
   },
   "outputs": [
    {
     "name": "stdout",
     "output_type": "stream",
     "text": [
      "Borough    Barking & Dagenham\n",
      "Ratio                0.161335\n",
      "dtype: object\n"
     ]
    }
   ],
   "source": [
    "print(ratio_df.min())"
   ]
  },
  {
   "cell_type": "markdown",
   "metadata": {
    "colab_type": "text",
    "id": "NzYUI7FxJpgv"
   },
   "source": [
    "### 4. Conclusion\n",
    "What can you conclude? Type out your conclusion below. \n",
    "\n",
    "Look back at your notebook. Think about how you might summarize what you have done, and prepare a quick presentation on it to your mentor at your next meeting. \n",
    "\n",
    "We hope you enjoyed this practical project. It should have consolidated your data hygiene and pandas skills by looking at a real-world problem involving just the kind of dataset you might encounter as a budding data scientist. Congratulations, and looking forward to seeing you at the next step in the course! "
   ]
  },
  {
   "cell_type": "markdown",
   "metadata": {},
   "source": [
    "Conclusion: Barking and Dagenham has seen the largest increase in housing prices on Average from 1998 to 2018.  \n",
    "\n",
    "1. Importing Libraries and Data:\n",
    "    No comments here as it seemed fairly straightforward\n",
    "2. Exploring and Cleaning the data:\n",
    "    I find that I don't really mind this step as all.  I've worked with a lot of messy data sets and getting the data tidy in python is easier and more straightforward.  The most annoying thing here was the \"ID\" header column.  I initially brought it in as a data column with a Null column name.  A Null column name is annoying to deal with so I brought the ID column in the header in read_csv...which assigned an default index name to the column which was easier to work with.  \n",
    "\n",
    "    I don't fully understand the purpose of 'melt' yet.  Is .plot incabable of plotting an unmelted data set?  Why can't we pass the slices of the dataframe we want to .plot?  \n",
    "\n",
    "    In working on this I came across the idea of \"tidy\" data by Wes Mckinny.  Is this a good resource to read?  Is it considered best practice to plot melted data?  \n",
    "\n",
    "3. Modeling:\n",
    "    Defining the function to get the ratio of average prices between 1998 and 2018 went fairly smoothly.  I took an average of the 12 average prices from 1998 and 2018.  \n",
    "    \n",
    "    Where I really struggled was figuring out how to create a nice dataframe with boroughs and ratios.  I settled on the function returning a tuple with borough name and ratio.  Using the tuple to build a list of tuples.  And then using that list to build a Dataframe.  I think what took me so long is that I'm not great at \"googling\" the right question yet.  What i'm doing is relatively simple - so I would expect the solution to be simple.  But google is taking me to strange places - at one point I imported collections to create a defaultdict...\n",
    "    \n",
    "Overall its great to work on a real data set and to start something from scratch.  I feel like I could have probably figured this project out in less time just using excel (project took me about 4 to 5 hours).  But we are just getting started so as I get better at this and learn more about the functionality, python will quickly become surperior to excel. "
   ]
  }
 ],
 "metadata": {
  "colab": {
   "collapsed_sections": [],
   "name": "Springboard Data Science Career Track Unit 4 Challenge - Tier 3 Complete .ipynb",
   "provenance": []
  },
  "kernelspec": {
   "display_name": "Python 3",
   "language": "python",
   "name": "python3"
  },
  "language_info": {
   "codemirror_mode": {
    "name": "ipython",
    "version": 3
   },
   "file_extension": ".py",
   "mimetype": "text/x-python",
   "name": "python",
   "nbconvert_exporter": "python",
   "pygments_lexer": "ipython3",
   "version": "3.7.0"
  }
 },
 "nbformat": 4,
 "nbformat_minor": 1
}
